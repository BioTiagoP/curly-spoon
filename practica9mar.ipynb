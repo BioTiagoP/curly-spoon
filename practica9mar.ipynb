{
  "nbformat": 4,
  "nbformat_minor": 0,
  "metadata": {
    "colab": {
      "provenance": []
    },
    "kernelspec": {
      "name": "python3",
      "display_name": "Python 3"
    },
    "language_info": {
      "name": "python"
    }
  },
  "cells": [
    {
      "cell_type": "markdown",
      "source": [
        "#Práctica de introducción a BioPython\n",
        "\n",
        "BioPhyton es un módulo que nos permite trabajar con biología computacional\n",
        "Valeria Lizeth Olmedo Lemache\n",
        "Marco Santiago Páez Andrade\n",
        "Carla Jazmín Rodríguez Erraís"
      ],
      "metadata": {
        "id": "ZmhrmW8XyYpd"
      }
    },
    {
      "cell_type": "code",
      "source": [
        "#Creación de variables\n",
        "\n",
        "var1= 10\n",
        "var2= 245\n",
        "print (var1,var2)"
      ],
      "metadata": {
        "colab": {
          "base_uri": "https://localhost:8080/"
        },
        "id": "sTsSQHRqzOav",
        "outputId": "214557c8-ad0f-442e-f26c-a6c8fa94cff0"
      },
      "execution_count": 2,
      "outputs": [
        {
          "output_type": "stream",
          "name": "stdout",
          "text": [
            "10 245\n"
          ]
        }
      ]
    },
    {
      "cell_type": "code",
      "source": [
        "#realizar operaciones\n",
        "var3= var2/var1\n",
        "print(var3)"
      ],
      "metadata": {
        "colab": {
          "base_uri": "https://localhost:8080/"
        },
        "id": "yT4Krkz10IiO",
        "outputId": "c7dd4beb-7351-4edc-d61e-4724fe234593"
      },
      "execution_count": 3,
      "outputs": [
        {
          "output_type": "stream",
          "name": "stdout",
          "text": [
            "24.5\n"
          ]
        }
      ]
    },
    {
      "cell_type": "code",
      "source": [
        "#Secuencia de ADN\n",
        "\n",
        "ADN1=\"ACTCGATAGATCGATTGGGA\"\n",
        "print(ADN1)"
      ],
      "metadata": {
        "colab": {
          "base_uri": "https://localhost:8080/"
        },
        "id": "hcYp9WxZ0WnJ",
        "outputId": "51e28e8f-7467-4bf8-db64-a3291681e75a"
      },
      "execution_count": 4,
      "outputs": [
        {
          "output_type": "stream",
          "name": "stdout",
          "text": [
            "ACTCGATAGATCGATTGGGA\n"
          ]
        }
      ]
    },
    {
      "cell_type": "code",
      "source": [
        "#Creando un programa e interactuar con el usuario:\n",
        "\n",
        "nombre = input(\"Ingrese su nombre: \")\n",
        "\n",
        "adn = input(\"Ingrese su secuencia: \")\n",
        "\n",
        "print(\"Hola\", nombre,\",usted ha ingresado la siguiente secuencia:\",adn)"
      ],
      "metadata": {
        "colab": {
          "base_uri": "https://localhost:8080/"
        },
        "id": "8z_KrUdp0l8C",
        "outputId": "c732abc9-d8ab-41b7-ce2a-2d634a6ffef3"
      },
      "execution_count": 6,
      "outputs": [
        {
          "output_type": "stream",
          "name": "stdout",
          "text": [
            "Ingrese su nombre: Santiago\n",
            "Ingrese su secuencia: ATCTCTCAT\n",
            "Hola Santiago ,usted ha ingresado la siguiente secuencia: ATCTCTCAT\n"
          ]
        }
      ]
    },
    {
      "cell_type": "code",
      "source": [
        "a = input(\"Coloque su número de cédula: \")\n",
        "b= input(\"Ingrese el código protéico: \")\n",
        "print(\"Buen día usuario\", a, \",se modificará la secuencia protéica:\", b)"
      ],
      "metadata": {
        "colab": {
          "base_uri": "https://localhost:8080/"
        },
        "id": "HMJFpHGr1c-Z",
        "outputId": "3d3e9451-140b-4f7d-ce5c-4d5572206fd9"
      },
      "execution_count": 7,
      "outputs": [
        {
          "output_type": "stream",
          "name": "stdout",
          "text": [
            "Coloque su número de cédula: 171271727312\n",
            "Ingrese el código protéico: LALALALQWADSA\n",
            "Buen día usuario 171271727312 ,se modificará la secuencia protéica: LALALALQWADSA\n"
          ]
        }
      ]
    },
    {
      "cell_type": "code",
      "source": [
        "#Homogenizando la secuencia: Corrijamos por si la secuencia fuese escrita con espacios, mayúsculas, minúsculas\n",
        "\n",
        "#Mayúsculas\n",
        "print(adn.upper()) #sirve para poner mayusculas\n",
        "print(adn)"
      ],
      "metadata": {
        "colab": {
          "base_uri": "https://localhost:8080/"
        },
        "id": "93fK894C2zYQ",
        "outputId": "587dcf5b-c795-40b3-b597-557a84e0dda9"
      },
      "execution_count": 8,
      "outputs": [
        {
          "output_type": "stream",
          "name": "stdout",
          "text": [
            "ATCTCTCAT\n",
            "ATCTCTCAT\n"
          ]
        }
      ]
    },
    {
      "cell_type": "code",
      "source": [
        "#Eliminamos espacios\n",
        "print(adn.replace(\" \",\"\"))\n",
        "print(adn)"
      ],
      "metadata": {
        "colab": {
          "base_uri": "https://localhost:8080/"
        },
        "id": "I6QiizHL3vWH",
        "outputId": "0b96060b-8750-4d50-83af-2c8fa3eb75ae"
      },
      "execution_count": 9,
      "outputs": [
        {
          "output_type": "stream",
          "name": "stdout",
          "text": [
            "ATCTCTCAT\n",
            "ATCTCTCAT\n"
          ]
        }
      ]
    },
    {
      "cell_type": "code",
      "source": [
        "#Ponemos las dos funciones juntas\n",
        "adn=adn.upper().replace(\" \",\"\")\n",
        "\n",
        "print(adn)"
      ],
      "metadata": {
        "colab": {
          "base_uri": "https://localhost:8080/"
        },
        "id": "zyTIlw2o4dCQ",
        "outputId": "701d916d-a213-49ce-ece2-6fbe25f8474e"
      },
      "execution_count": 10,
      "outputs": [
        {
          "output_type": "stream",
          "name": "stdout",
          "text": [
            "ATCTCTCAT\n"
          ]
        }
      ]
    },
    {
      "cell_type": "code",
      "source": [
        "#Puedo encontrar una o varias bases en una posición específica, en este caso la primera posición = 0\n",
        "adn[0],adn[1],adn[3],adn[5]\n"
      ],
      "metadata": {
        "colab": {
          "base_uri": "https://localhost:8080/"
        },
        "id": "-vYzMpHn5PIu",
        "outputId": "f0c32c32-c39b-4c28-a73f-584d3c6d4d13"
      },
      "execution_count": 13,
      "outputs": [
        {
          "output_type": "execute_result",
          "data": {
            "text/plain": [
              "('A', 'T', 'T', 'T')"
            ]
          },
          "metadata": {},
          "execution_count": 13
        }
      ]
    },
    {
      "cell_type": "code",
      "source": [
        "#Longitud de la cadena\n",
        "\n",
        "seq_len=len(adn)\n",
        "print(seq_len)\n"
      ],
      "metadata": {
        "id": "m_hzx1eH5_oK"
      },
      "execution_count": null,
      "outputs": []
    },
    {
      "cell_type": "code",
      "source": [
        "#imprimiento diferentes nucleotidos por posición\n",
        "print(adn)\n",
        "print(adn[0])\n",
        "print(adn[4])\n",
        "print(adn[10])\n",
        "print(adn[-1]) #última letra"
      ],
      "metadata": {
        "colab": {
          "base_uri": "https://localhost:8080/",
          "height": 245
        },
        "id": "32sqra6y6M5d",
        "outputId": "6139abd3-e8fb-401a-decf-cd56d241d5f4"
      },
      "execution_count": 15,
      "outputs": [
        {
          "output_type": "stream",
          "name": "stdout",
          "text": [
            "ATCTCTCAT\n",
            "A\n",
            "C\n"
          ]
        },
        {
          "output_type": "error",
          "ename": "IndexError",
          "evalue": "string index out of range",
          "traceback": [
            "\u001b[0;31m---------------------------------------------------------------------------\u001b[0m",
            "\u001b[0;31mIndexError\u001b[0m                                Traceback (most recent call last)",
            "\u001b[0;32m<ipython-input-15-62a360d0dcbb>\u001b[0m in \u001b[0;36m<cell line: 5>\u001b[0;34m()\u001b[0m\n\u001b[1;32m      3\u001b[0m \u001b[0mprint\u001b[0m\u001b[0;34m(\u001b[0m\u001b[0madn\u001b[0m\u001b[0;34m[\u001b[0m\u001b[0;36m0\u001b[0m\u001b[0;34m]\u001b[0m\u001b[0;34m)\u001b[0m\u001b[0;34m\u001b[0m\u001b[0;34m\u001b[0m\u001b[0m\n\u001b[1;32m      4\u001b[0m \u001b[0mprint\u001b[0m\u001b[0;34m(\u001b[0m\u001b[0madn\u001b[0m\u001b[0;34m[\u001b[0m\u001b[0;36m4\u001b[0m\u001b[0;34m]\u001b[0m\u001b[0;34m)\u001b[0m\u001b[0;34m\u001b[0m\u001b[0;34m\u001b[0m\u001b[0m\n\u001b[0;32m----> 5\u001b[0;31m \u001b[0mprint\u001b[0m\u001b[0;34m(\u001b[0m\u001b[0madn\u001b[0m\u001b[0;34m[\u001b[0m\u001b[0;36m10\u001b[0m\u001b[0;34m]\u001b[0m\u001b[0;34m)\u001b[0m\u001b[0;34m\u001b[0m\u001b[0;34m\u001b[0m\u001b[0m\n\u001b[0m\u001b[1;32m      6\u001b[0m \u001b[0mprint\u001b[0m\u001b[0;34m(\u001b[0m\u001b[0madn\u001b[0m\u001b[0;34m[\u001b[0m\u001b[0;34m-\u001b[0m\u001b[0;36m1\u001b[0m\u001b[0;34m]\u001b[0m\u001b[0;34m)\u001b[0m \u001b[0;31m#última letra\u001b[0m\u001b[0;34m\u001b[0m\u001b[0;34m\u001b[0m\u001b[0m\n",
            "\u001b[0;31mIndexError\u001b[0m: string index out of range"
          ]
        }
      ]
    },
    {
      "cell_type": "code",
      "source": [
        "#Función count me ayuda a contar\n",
        "\n",
        "print(\"G\",adn.count(\"G\"))\n",
        "print(adn.count(\"C\"))\n",
        "print(adn.count(\"AT\"))\n",
        "print(adn.count(\"TA\"))\n",
        "print(adn)"
      ],
      "metadata": {
        "colab": {
          "base_uri": "https://localhost:8080/"
        },
        "id": "61DnKBJH6kds",
        "outputId": "046249a4-643d-45ee-c30f-9ebfbbfd1880"
      },
      "execution_count": 16,
      "outputs": [
        {
          "output_type": "stream",
          "name": "stdout",
          "text": [
            "G 0\n",
            "3\n",
            "2\n",
            "0\n",
            "ATCTCTCAT\n"
          ]
        }
      ]
    },
    {
      "cell_type": "code",
      "source": [
        "# Porcentaje de bases en la cadena de ADN\n",
        "#Contando adeninas (A)\n",
        "\n",
        "NumA=adn.count(\"A\")\n",
        "\n",
        "Porcentaje=100*NumA/seq_len\n",
        "\n",
        "print(\"El porcentaje de adeninas (A) es:\", round(Porcentaje,2), \"%\")"
      ],
      "metadata": {
        "colab": {
          "base_uri": "https://localhost:8080/"
        },
        "id": "FnihmmVk7CZi",
        "outputId": "5f67cb40-08f7-466b-bcfb-eeafbe5728f3"
      },
      "execution_count": 17,
      "outputs": [
        {
          "output_type": "stream",
          "name": "stdout",
          "text": [
            "El porcentaje de adeninas (A) es: 22.22 %\n"
          ]
        }
      ]
    },
    {
      "cell_type": "code",
      "source": [
        "NumC=adn.count(\"C\")\n",
        "\n",
        "Porcentaje2=100*NumC/seq_len\n",
        "\n",
        "print(\"El porcentaje de citocinas (C) es:\", round(Porcentaje2,2), \"%\")"
      ],
      "metadata": {
        "colab": {
          "base_uri": "https://localhost:8080/"
        },
        "id": "t3Xmp3m7778b",
        "outputId": "42628ce3-64a6-498b-b22a-9d1dc0109227"
      },
      "execution_count": 18,
      "outputs": [
        {
          "output_type": "stream",
          "name": "stdout",
          "text": [
            "El porcentaje de citocinas (C) es: 33.33 %\n"
          ]
        }
      ]
    },
    {
      "cell_type": "code",
      "source": [
        "NumCT=adn.count(\"CT\")\n",
        "\n",
        "Porcentaje3=100*NumCT/seq_len\n",
        "\n",
        "print(\"El porcentaje de CT es:\", round(Porcentaje3,2), \"%\")"
      ],
      "metadata": {
        "colab": {
          "base_uri": "https://localhost:8080/"
        },
        "id": "CJK67NNZ8Ynj",
        "outputId": "de46bca6-2635-45e4-98fd-2c055502db0f"
      },
      "execution_count": 19,
      "outputs": [
        {
          "output_type": "stream",
          "name": "stdout",
          "text": [
            "El porcentaje de CT es: 22.22 %\n"
          ]
        }
      ]
    },
    {
      "cell_type": "code",
      "source": [
        "NumC=adn.count(\"C\")\n",
        "NumT=adn.count(\"T\")\n",
        "\n",
        "Porcentaje4=100*(NumC+NumT)/seq_len\n",
        "\n",
        "print(\"El porcentaje de C y T en la cadena es:\", round(Porcentaje4,2), \"%\")"
      ],
      "metadata": {
        "colab": {
          "base_uri": "https://localhost:8080/"
        },
        "id": "l334TbfQ9C1c",
        "outputId": "fea64213-c658-4ad4-e30f-9866dc34f940"
      },
      "execution_count": 20,
      "outputs": [
        {
          "output_type": "stream",
          "name": "stdout",
          "text": [
            "El porcentaje de C y T en la cadena es: 77.78 %\n"
          ]
        }
      ]
    },
    {
      "cell_type": "code",
      "source": [
        "pip install biopython"
      ],
      "metadata": {
        "colab": {
          "base_uri": "https://localhost:8080/"
        },
        "id": "MRDqIY4L-2Ho",
        "outputId": "de78fb86-351c-4de5-9b56-4bb0b9f443a0"
      },
      "execution_count": 21,
      "outputs": [
        {
          "output_type": "stream",
          "name": "stdout",
          "text": [
            "Collecting biopython\n",
            "  Downloading biopython-1.83-cp310-cp310-manylinux_2_17_x86_64.manylinux2014_x86_64.whl (3.1 MB)\n",
            "\u001b[2K     \u001b[90m━━━━━━━━━━━━━━━━━━━━━━━━━━━━━━━━━━━━━━━━\u001b[0m \u001b[32m3.1/3.1 MB\u001b[0m \u001b[31m17.8 MB/s\u001b[0m eta \u001b[36m0:00:00\u001b[0m\n",
            "\u001b[?25hRequirement already satisfied: numpy in /usr/local/lib/python3.10/dist-packages (from biopython) (1.25.2)\n",
            "Installing collected packages: biopython\n",
            "Successfully installed biopython-1.83\n"
          ]
        }
      ]
    },
    {
      "cell_type": "code",
      "source": [
        "pip install dna_features_viewer"
      ],
      "metadata": {
        "colab": {
          "base_uri": "https://localhost:8080/"
        },
        "id": "_ZudT8iF-8Lw",
        "outputId": "e4cc334b-ce77-419f-804c-be3cc3afa947"
      },
      "execution_count": 22,
      "outputs": [
        {
          "output_type": "stream",
          "name": "stdout",
          "text": [
            "Collecting dna_features_viewer\n",
            "  Downloading dna_features_viewer-3.1.3-py3-none-any.whl (31 kB)\n",
            "Requirement already satisfied: matplotlib>=3 in /usr/local/lib/python3.10/dist-packages (from dna_features_viewer) (3.7.1)\n",
            "Requirement already satisfied: Biopython in /usr/local/lib/python3.10/dist-packages (from dna_features_viewer) (1.83)\n",
            "Requirement already satisfied: packaging in /usr/local/lib/python3.10/dist-packages (from dna_features_viewer) (23.2)\n",
            "Requirement already satisfied: contourpy>=1.0.1 in /usr/local/lib/python3.10/dist-packages (from matplotlib>=3->dna_features_viewer) (1.2.0)\n",
            "Requirement already satisfied: cycler>=0.10 in /usr/local/lib/python3.10/dist-packages (from matplotlib>=3->dna_features_viewer) (0.12.1)\n",
            "Requirement already satisfied: fonttools>=4.22.0 in /usr/local/lib/python3.10/dist-packages (from matplotlib>=3->dna_features_viewer) (4.49.0)\n",
            "Requirement already satisfied: kiwisolver>=1.0.1 in /usr/local/lib/python3.10/dist-packages (from matplotlib>=3->dna_features_viewer) (1.4.5)\n",
            "Requirement already satisfied: numpy>=1.20 in /usr/local/lib/python3.10/dist-packages (from matplotlib>=3->dna_features_viewer) (1.25.2)\n",
            "Requirement already satisfied: pillow>=6.2.0 in /usr/local/lib/python3.10/dist-packages (from matplotlib>=3->dna_features_viewer) (9.4.0)\n",
            "Requirement already satisfied: pyparsing>=2.3.1 in /usr/local/lib/python3.10/dist-packages (from matplotlib>=3->dna_features_viewer) (3.1.1)\n",
            "Requirement already satisfied: python-dateutil>=2.7 in /usr/local/lib/python3.10/dist-packages (from matplotlib>=3->dna_features_viewer) (2.8.2)\n",
            "Requirement already satisfied: six>=1.5 in /usr/local/lib/python3.10/dist-packages (from python-dateutil>=2.7->matplotlib>=3->dna_features_viewer) (1.16.0)\n",
            "Installing collected packages: dna_features_viewer\n",
            "Successfully installed dna_features_viewer-3.1.3\n"
          ]
        }
      ]
    },
    {
      "cell_type": "code",
      "source": [
        "pip install matplotlib"
      ],
      "metadata": {
        "colab": {
          "base_uri": "https://localhost:8080/"
        },
        "id": "lfZ7DOug_Cf_",
        "outputId": "b1033206-9956-42ff-8370-1495f91f1475"
      },
      "execution_count": 23,
      "outputs": [
        {
          "output_type": "stream",
          "name": "stdout",
          "text": [
            "Requirement already satisfied: matplotlib in /usr/local/lib/python3.10/dist-packages (3.7.1)\n",
            "Requirement already satisfied: contourpy>=1.0.1 in /usr/local/lib/python3.10/dist-packages (from matplotlib) (1.2.0)\n",
            "Requirement already satisfied: cycler>=0.10 in /usr/local/lib/python3.10/dist-packages (from matplotlib) (0.12.1)\n",
            "Requirement already satisfied: fonttools>=4.22.0 in /usr/local/lib/python3.10/dist-packages (from matplotlib) (4.49.0)\n",
            "Requirement already satisfied: kiwisolver>=1.0.1 in /usr/local/lib/python3.10/dist-packages (from matplotlib) (1.4.5)\n",
            "Requirement already satisfied: numpy>=1.20 in /usr/local/lib/python3.10/dist-packages (from matplotlib) (1.25.2)\n",
            "Requirement already satisfied: packaging>=20.0 in /usr/local/lib/python3.10/dist-packages (from matplotlib) (23.2)\n",
            "Requirement already satisfied: pillow>=6.2.0 in /usr/local/lib/python3.10/dist-packages (from matplotlib) (9.4.0)\n",
            "Requirement already satisfied: pyparsing>=2.3.1 in /usr/local/lib/python3.10/dist-packages (from matplotlib) (3.1.1)\n",
            "Requirement already satisfied: python-dateutil>=2.7 in /usr/local/lib/python3.10/dist-packages (from matplotlib) (2.8.2)\n",
            "Requirement already satisfied: six>=1.5 in /usr/local/lib/python3.10/dist-packages (from python-dateutil>=2.7->matplotlib) (1.16.0)\n"
          ]
        }
      ]
    },
    {
      "cell_type": "code",
      "source": [
        "from Bio.Seq import Seq"
      ],
      "metadata": {
        "id": "pbfofwsH_RD_"
      },
      "execution_count": 24,
      "outputs": []
    },
    {
      "cell_type": "code",
      "source": [
        "#Ahora generemos una secuencia con una diversidad de funciones nuevas, usando Seq:\n",
        "adn = Seq(\"ATGCGAAGCAGACATTAA\")\n",
        "print(adn)"
      ],
      "metadata": {
        "colab": {
          "base_uri": "https://localhost:8080/"
        },
        "id": "aJrRIXSQ_Zbc",
        "outputId": "51d3fb85-7ee0-43dc-a235-5adf7895a3fe"
      },
      "execution_count": 25,
      "outputs": [
        {
          "output_type": "stream",
          "name": "stdout",
          "text": [
            "ATGCGAAGCAGACATTAA\n"
          ]
        }
      ]
    },
    {
      "cell_type": "code",
      "source": [
        "#Creamos la función transcribe (manual)\n",
        "def transcribe(self):\n",
        "    rna = self._data.replace('T', 'U')\n",
        "    return Seq(rna, alphabet=RNAAlphabet())\n",
        "\n",
        "# Trancribiendo la secuencia\n",
        "arn = adn.transcribe()\n",
        "print(\"ADN:\", adn)\n",
        "print(\"ARN:\", arn)"
      ],
      "metadata": {
        "colab": {
          "base_uri": "https://localhost:8080/"
        },
        "id": "zrT6qNpHAON7",
        "outputId": "34f405c3-5c5e-4d87-96ed-d4f7b95a1d80"
      },
      "execution_count": 26,
      "outputs": [
        {
          "output_type": "stream",
          "name": "stdout",
          "text": [
            "ADN: ATGCGAAGCAGACATTAA\n",
            "ARN: AUGCGAAGCAGACAUUAA\n"
          ]
        }
      ]
    },
    {
      "cell_type": "code",
      "source": [
        "import os\n",
        "import sys\n",
        "\n",
        "from urllib.request import urlretrieve\n",
        "\n",
        "import Bio\n",
        "from Bio.SeqUtils import gc_fraction\n",
        "from Bio.Blast import NCBIWWW"
      ],
      "metadata": {
        "id": "0BNPGBMTAnMD"
      },
      "execution_count": 27,
      "outputs": []
    },
    {
      "cell_type": "code",
      "source": [
        "#Pero usemos las funciones del paquete\n",
        "#Cadena complementaria\n",
        "\n",
        "print(adn.complement())"
      ],
      "metadata": {
        "colab": {
          "base_uri": "https://localhost:8080/"
        },
        "id": "lOld1BzGAr6Z",
        "outputId": "d1cdf27c-a200-442c-e1f1-b9f739d26d2f"
      },
      "execution_count": 28,
      "outputs": [
        {
          "output_type": "stream",
          "name": "stdout",
          "text": [
            "TACGCTTCGTCTGTAATT\n"
          ]
        }
      ]
    },
    {
      "cell_type": "code",
      "source": [
        "#Cadena complementaria inversa\n",
        "print(adn.reverse_complement())"
      ],
      "metadata": {
        "colab": {
          "base_uri": "https://localhost:8080/"
        },
        "id": "UxPCj3e7AzLV",
        "outputId": "809d32f7-d39d-437a-f806-3cbd838427d3"
      },
      "execution_count": 29,
      "outputs": [
        {
          "output_type": "stream",
          "name": "stdout",
          "text": [
            "TTAATGTCTGCTTCGCAT\n"
          ]
        }
      ]
    },
    {
      "cell_type": "code",
      "source": [
        "# ARNm\n",
        "print(adn.transcribe())"
      ],
      "metadata": {
        "colab": {
          "base_uri": "https://localhost:8080/"
        },
        "id": "f0CHh0mtA2vi",
        "outputId": "b1cef65e-d253-4826-d433-41c42e39e051"
      },
      "execution_count": 30,
      "outputs": [
        {
          "output_type": "stream",
          "name": "stdout",
          "text": [
            "AUGCGAAGCAGACAUUAA\n"
          ]
        }
      ]
    },
    {
      "cell_type": "code",
      "source": [
        "# proteína (* = STOP)\n",
        "print(adn.translate())"
      ],
      "metadata": {
        "colab": {
          "base_uri": "https://localhost:8080/"
        },
        "id": "-18GGO4JA7ZZ",
        "outputId": "aa53ad95-9067-4366-9735-ded37808199e"
      },
      "execution_count": 31,
      "outputs": [
        {
          "output_type": "stream",
          "name": "stdout",
          "text": [
            "MRSRH*\n"
          ]
        }
      ]
    },
    {
      "cell_type": "code",
      "source": [
        "# proteína CON OTRA TABLA\n",
        "print(adn.translate(table=2))"
      ],
      "metadata": {
        "colab": {
          "base_uri": "https://localhost:8080/"
        },
        "id": "AGiUb5JhBC90",
        "outputId": "e9d51e5b-0f7e-47c9-b905-b469f332085d"
      },
      "execution_count": 32,
      "outputs": [
        {
          "output_type": "stream",
          "name": "stdout",
          "text": [
            "MRS*H*\n"
          ]
        }
      ]
    },
    {
      "cell_type": "code",
      "source": [
        "# proteína con un signo diferentes de stop\n",
        "print(adn.translate(table=2,stop_symbol=\"@\"))"
      ],
      "metadata": {
        "colab": {
          "base_uri": "https://localhost:8080/"
        },
        "id": "yY6obUECBHl-",
        "outputId": "f6504b1c-17b4-4777-e024-df7b02b8187d"
      },
      "execution_count": 33,
      "outputs": [
        {
          "output_type": "stream",
          "name": "stdout",
          "text": [
            "MRS@H@\n"
          ]
        }
      ]
    },
    {
      "cell_type": "code",
      "source": [
        "from Bio.Data import CodonTable"
      ],
      "metadata": {
        "id": "wUwkONKsBTBW"
      },
      "execution_count": 34,
      "outputs": []
    },
    {
      "cell_type": "code",
      "source": [
        "#Podemos visualizar las diferentes tablas de codones (depende del número)\n",
        "print(CodonTable.unambiguous_dna_by_id[10])"
      ],
      "metadata": {
        "colab": {
          "base_uri": "https://localhost:8080/"
        },
        "id": "BwgKg2IzBV2n",
        "outputId": "cfc2fae5-905f-4bdd-9f76-4faf2d51c8d7"
      },
      "execution_count": 35,
      "outputs": [
        {
          "output_type": "stream",
          "name": "stdout",
          "text": [
            "Table 10 Euplotid Nuclear, SGC9\n",
            "\n",
            "  |  T      |  C      |  A      |  G      |\n",
            "--+---------+---------+---------+---------+--\n",
            "T | TTT F   | TCT S   | TAT Y   | TGT C   | T\n",
            "T | TTC F   | TCC S   | TAC Y   | TGC C   | C\n",
            "T | TTA L   | TCA S   | TAA Stop| TGA C   | A\n",
            "T | TTG L   | TCG S   | TAG Stop| TGG W   | G\n",
            "--+---------+---------+---------+---------+--\n",
            "C | CTT L   | CCT P   | CAT H   | CGT R   | T\n",
            "C | CTC L   | CCC P   | CAC H   | CGC R   | C\n",
            "C | CTA L   | CCA P   | CAA Q   | CGA R   | A\n",
            "C | CTG L   | CCG P   | CAG Q   | CGG R   | G\n",
            "--+---------+---------+---------+---------+--\n",
            "A | ATT I   | ACT T   | AAT N   | AGT S   | T\n",
            "A | ATC I   | ACC T   | AAC N   | AGC S   | C\n",
            "A | ATA I   | ACA T   | AAA K   | AGA R   | A\n",
            "A | ATG M(s)| ACG T   | AAG K   | AGG R   | G\n",
            "--+---------+---------+---------+---------+--\n",
            "G | GTT V   | GCT A   | GAT D   | GGT G   | T\n",
            "G | GTC V   | GCC A   | GAC D   | GGC G   | C\n",
            "G | GTA V   | GCA A   | GAA E   | GGA G   | A\n",
            "G | GTG V   | GCG A   | GAG E   | GGG G   | G\n",
            "--+---------+---------+---------+---------+--\n"
          ]
        }
      ]
    },
    {
      "cell_type": "code",
      "source": [
        "from dna_features_viewer import GraphicFeature, GraphicRecord"
      ],
      "metadata": {
        "id": "XvHcTaVjB58M"
      },
      "execution_count": 36,
      "outputs": []
    },
    {
      "cell_type": "code",
      "source": [
        "caracts=[GraphicFeature(start=90, end=120, strand=+1,color=\"blue\", label=\"Promotor1\"),\n",
        "        GraphicFeature(start=200, end=550, strand=+1,color=\"skyblue\", label=\"Gen1\"),\n",
        "        GraphicFeature(start=500, end=874, strand=-1,color=\"red\", label=\"Gen2\"),\n",
        "        GraphicFeature(start=900, end=920, strand=-1,color=\"blue\", label=\"Promotor2\")]\n",
        "\n",
        "graphic=GraphicRecord(sequence_length=1000, features=caracts)\n",
        "\n",
        "graphic.plot()"
      ],
      "metadata": {
        "colab": {
          "base_uri": "https://localhost:8080/",
          "height": 351
        },
        "id": "C9UyZtqXB8fH",
        "outputId": "6d759d1f-297c-4ed5-ea80-9ba67999f5e0"
      },
      "execution_count": 37,
      "outputs": [
        {
          "output_type": "execute_result",
          "data": {
            "text/plain": [
              "(<Axes: >,\n",
              " ({GF(Promotor1, 90-120 (1)): 0,\n",
              "   GF(Gen1, 200-550 (1)): 1.0,\n",
              "   GF(Gen2, 500-874 (-1)): 0,\n",
              "   GF(Promotor2, 900-920 (-1)): 0},\n",
              "  {GF(Promotor1, 90-120 (1)): {'feature_y': 0, 'annotation_y': 1.0},\n",
              "   GF(Promotor2, 900-920 (-1)): {'feature_y': 0, 'annotation_y': 1.0}}))"
            ]
          },
          "metadata": {},
          "execution_count": 37
        },
        {
          "output_type": "display_data",
          "data": {
            "text/plain": [
              "<Figure size 800x220 with 1 Axes>"
            ],
            "image/png": "[encoded data removed]"
          },
          "metadata": {}
        }
      ]
    },
    {
      "cell_type": "code",
      "source": [
        "from dna_features_viewer import CircularGraphicRecord"
      ],
      "metadata": {
        "id": "vk0SOCRdDS2N"
      },
      "execution_count": 38,
      "outputs": []
    },
    {
      "cell_type": "code",
      "source": [
        "graphic1=CircularGraphicRecord(sequence_length=1000, features=caracts)\n",
        "graphic1.plot()"
      ],
      "metadata": {
        "colab": {
          "base_uri": "https://localhost:8080/",
          "height": 1000
        },
        "id": "jLxJlJr9DVgL",
        "outputId": "35d386a3-e554-49e3-beeb-51fc978a8f72"
      },
      "execution_count": 39,
      "outputs": [
        {
          "output_type": "execute_result",
          "data": {
            "text/plain": [
              "(<Axes: >,\n",
              " ({GF(Promotor1, 90-120 (1)): 0,\n",
              "   GF(Gen1, 200-550 (1)): 1.0,\n",
              "   GF(Gen2, 500-874 (-1)): 0,\n",
              "   GF(Promotor2, 900-920 (-1)): 0},\n",
              "  {GF(Gen2, 500-874 (-1)): {'feature_y': -1.3884807466313662,\n",
              "    'annotation_y': 0.7},\n",
              "   GF(Gen1, 200-550 (1)): {'feature_y': -1.8458582247308335,\n",
              "    'annotation_y': 0.7},\n",
              "   GF(Promotor1, 90-120 (1)): {'feature_y': -0.20792338575003289,\n",
              "    'annotation_y': 0.45},\n",
              "   GF(Promotor2, 900-920 (-1)): {'feature_y': -0.1573595878395675,\n",
              "    'annotation_y': 0.45}}))"
            ]
          },
          "metadata": {},
          "execution_count": 39
        },
        {
          "output_type": "display_data",
          "data": {
            "text/plain": [
              "<Figure size 800x1014.29 with 1 Axes>"
            ],
            "image/png": "[encoded data removed]"
          },
          "metadata": {}
        }
      ]
    },
    {
      "cell_type": "code",
      "source": [
        "from Bio import SeqIO, SearchIO, Entrez"
      ],
      "metadata": {
        "id": "pcmfm0QvgtZ3"
      },
      "execution_count": 40,
      "outputs": []
    },
    {
      "cell_type": "code",
      "source": [
        "#Debo registrarme\n",
        "\n",
        "Entrez.email=\"ivaca@ups.edu.ec\"\n",
        "file=Entrez.esearch(db=\"nucleotide\",term=\"cloning vector pBac\", retmax=\"40\")\n",
        "\n",
        "record=Entrez.read(file)\n",
        "print(record)\n",
        "#El resultados serán los identificadores de la búsqueda\n",
        "#Elegimos BD= nucleotidos, terminos de búsqueda, número de resultados máximo"
      ],
      "metadata": {
        "colab": {
          "base_uri": "https://localhost:8080/"
        },
        "id": "8KkVRA5aiAU3",
        "outputId": "755f72d8-383f-42b0-b3c8-4d7e33f5f588"
      },
      "execution_count": 41,
      "outputs": [
        {
          "output_type": "stream",
          "name": "stdout",
          "text": [
            "{'Count': '35', 'RetMax': '35', 'RetStart': '0', 'IdList': ['2580284035', '2247533236', '2089725547', '1959114186', '1938232645', '1723414508', '1473096481', '1473096477', '1140334558', '1140334476', '1140334386', '1140334292', '1047836675', '1047836669', '1047836656', '1047836650', '1047836644', '1047836638', '38490698', '954037740', '954037737', '1008260932', '1008260929', '1008260926', '957762081', '952984624', '952984621', '952984618', '952984615', '319759856', '319759853', '319759849', '31335236', '161936400', '15721870'], 'TranslationSet': [{'From': 'cloning vector', 'To': '\"unidentified cloning vector\"[Organism] OR cloning vector[All Fields]'}], 'TranslationStack': [{'Term': '\"unidentified cloning vector\"[Organism]', 'Field': 'Organism', 'Count': '374', 'Explode': 'Y'}, {'Term': 'cloning vector[All Fields]', 'Field': 'All Fields', 'Count': '563673', 'Explode': 'N'}, 'OR', 'GROUP', {'Term': 'pBac[All Fields]', 'Field': 'All Fields', 'Count': '91424', 'Explode': 'N'}, 'AND', 'GROUP'], 'QueryTranslation': '(\"unidentified cloning vector\"[Organism] OR cloning vector[All Fields]) AND pBac[All Fields]'}\n"
          ]
        }
      ]
    },
    {
      "cell_type": "code",
      "source": [
        "# Ahora buscaremos el código con el identificador, y podemos ver la información que contiene\n",
        "\n",
        "file=Entrez.efetch(db=\"nucleotide\", id=\"1473096481\", rettype=\"gb\", retmode=\"text\")\n",
        "\n",
        "record=SeqIO.read(file, \"genbank\")\n",
        "print(record)"
      ],
      "metadata": {
        "colab": {
          "base_uri": "https://localhost:8080/"
        },
        "id": "4G-kM7CPiFeO",
        "outputId": "a6c04144-4a03-49b7-fd64-72c4beb34b4e"
      },
      "execution_count": 42,
      "outputs": [
        {
          "output_type": "stream",
          "name": "stdout",
          "text": [
            "ID: MH541847.1\n",
            "Name: MH541847\n",
            "Description: Cloning vector pBac[AttB-3xP3::RFP-zpg-hCas9-U6-4050T1gRNA-AttB], complete sequence\n",
            "Number of features: 20\n",
            "/molecule_type=DNA\n",
            "/topology=circular\n",
            "/data_file_division=SYN\n",
            "/date=12-SEP-2018\n",
            "/accessions=['MH541847']\n",
            "/sequence_version=1\n",
            "/keywords=['']\n",
            "/source=Cloning vector pBac[AttB-3xP3::RFP-zpg-hCas9-U6-4050T1gRNA-AttB]\n",
            "/organism=Cloning vector pBac[AttB-3xP3::RFP-zpg-hCas9-U6-4050T1gRNA-AttB]\n",
            "/taxonomy=['other sequences', 'artificial sequences', 'vectors']\n",
            "/references=[Reference(title='A CRISPR-Cas9 gene drive system targeting the doublesex gene causes complete population suppression in caged populations of Anopheles gambiae mosquitoes without inducing resistance', ...), Reference(title='Direct Submission', ...)]\n",
            "/structured_comment=defaultdict(<class 'dict'>, {'Assembly-Data': {'Sequencing Technology': 'Sanger dideoxy sequencing'}})\n",
            "Seq('AAATAATTCTCATATATCAAGCAAAGTGACAGGCGCCCTTAAATATTCTGACAA...GTT')\n"
          ]
        }
      ]
    },
    {
      "cell_type": "code",
      "source": [
        "#Podemos ver la secuencia completa\n",
        "\n",
        "print(record.seq)"
      ],
      "metadata": {
        "colab": {
          "base_uri": "https://localhost:8080/"
        },
        "id": "kjdCaYruiMN_",
        "outputId": "edc4751c-ec3f-4b6b-a5f2-d2c4aeb175f2"
      },
      "execution_count": 43,
      "outputs": [
        {
          "output_type": "stream",
          "name": "stdout",
          "text": [
            "AAATAATTCTCATATATCAAGCAAAGTGACAGGCGCCCTTAAATATTCTGACAAATGCTCTTTCCCTAAACTCCCCCCATAAAAAAACCCGCCGAAGCGGGTTTTTACGTTATTTGCGGATTAACGATTACTCGTTATCAGAACCGCCCAGGGGGCCCGAGCTTAAGACTGGCCGTCGTTTTACAACACAGAAAGAGTTTGTAGAAACGCAAAAAGGCCATCCGTCAGGGGCCTTCTGCTTAGTTTGATGCCTGGCAGTTCCCTACTCTCGCCTTCCGCTTCCTCGCTCACTGACTCGCTGCGCTCGGTCGTTCGGCTGCGGCGAGCGGTATCAGCTCACTCAAAGGCGGTAATACGGTTATCCACAGAATCAGGGGATAACGCAGGAAAGAACATGTGAGCAAAAGGCCAGCAAAAGGCCAGGAACCGTAAAAAGGCCGCGTTGCTGGCGTTTTTCCATAGGCTCCGCCCCCCTGACGAGCATCACAAAAATCGACGCTCAAGTCAGAGGTGGCGAAACCCGACAGGACTATAAAGATACCAGGCGTTTCCCCCTGGAAGCTCCCTCGTGCGCTCTCCTGTTCCGACCCTGCCGCTTACCGGATACCTGTCCGCCTTTCTCCCTTCGGGAAGCGTGGCGCTTTCTCATAGCTCACGCTGTAGGTATCTCAGTTCGGTGTAGGTCGTTCGCTCCAAGCTGGGCTGTGTGCACGAACCCCCCGTTCAGCCCGACCGCTGCGCCTTATCCGGTAACTATCGTCTTGAGTCCAACCCGGTAAGACACGACTTATCGCCACTGGCAGCAGCCACTGGTAACAGGATTAGCAGAGCGAGGTATGTAGGCGGTGCTACAGAGTTCTTGAAGTGGTGGGCTAACTACGGCTACACTAGAAGAACAGTATTTGGTATCTGCGCTCTGCTGAAGCCAGTTACCTTCGGAAAAAGAGTTGGTAGCTCTTGATCCGGCAAACAAACCACCGCTGGTAGCGGTGGTTTTTTTGTTTGCAAGCAGCAGATTACGCGCAGAAAAAAAGGATCTCAAGAAGATCCTTTGATCTTTTCTACGGGGTCTGACGCTCAGTGGAACGACGCGCGCGTAACTCACGTTAAGGGATTTTGGTCATGAGCTTGCGCCGTCCCGTCAAGTCAGCGTATTTTCGAGACGTTACGCCCCGCCCTGCCACTCATCGCAGTACTGTTGTAATTCATTAAGCATTCTGCCGACATGGAAGCCATCACAAACGGCATGATGAACCTGAATCGCCAGCGGCATCAGCACCTTGTCGCCTTGCGTATAATATTTGCCCATGGTGAAAACGGGGGCGAAGAAGTTGTCCATATTGGCCACGTTTAAATCAAAACTGGTGAAACTCACCCAGGGATTGGCTGACACGAAAAACATATTCTCAATAAATCCTTTAGGGAAATAGGCCAGGTTTTCACCGTAACACGCCACATCTTGCGAATATATGTGTAGAAACTGCCGGAAATCGTCGTGGTATTCACTCCAGAGCGATGAAAACGTTTCAGTTTGCTCATGGAAAACGGTGTAACATGGGTGAACACTATCCCATATCACCAGCTCACCGTCTTTCATTGCCATACGGAATTCTGGATGAGCATTCATCAGGCGGGCAAGAATGTGAATAAAGGCCGGATAAAACTTGTGCTTATTTTTCTTTACGGTTTTTAAAAAGGCCGTAATATCCAGCTGAACGGTCTGGTTATAGGTACATTGAGCAACTGACTGAAATGCCTCAAAATGTTCTTTACGATGCCATTGGGATATATCAACGGTGGTATATCCAGTGATTTTTTTCTCCATATTCTTCCTTTTTCAATATTATTGAAGCATTTATCAGGGTTATTGTCTCATGAGCGGATACATATTTGAATGTATTTAGAAAAATAAACAAATAGGGGTCAGTGTTACAACCAATTAACCAATTCTGATGCGCGTCTCTCCCCTTTGCCTGGCGGCAGTAGCGCGGTGGTCCCACCTGACCCCATGCCGAACTCAGAAGTGAAACGCCGTAGCGCCGATGGTAGTGTGGGGACTCCCCATGCGAGAGTAGGGAACTGCCAGGCATCAAATAAAACGAAAGGCTCAGTCGAAAGACTGGGCCTTTCGCCCGGGCTAATTAGGGGGTGTCGCCCTTATTCGACTCTATAGTGAAGTTCCTATTCTCTAGAAAGTATAGGAACTTCTGAAGTGGGGTATTCACGACAGCAGGCTGAATAATAAAAAAATTAGAAACTATTATTTAACCCTAGAAAGATAATCATATTGTGACGTACGTTAAAGATAATCATGCGTAAAATTGACGCATGTGTTTTATCGGTCTGTATATCGAGGTTTATTTATTAATTTGAATAGATATTAAGTTTTATTATATTTACACTTACATACTAATAATAAATTCAACAAACAATTTATTTATGTTTATTTATTTATTAAAAAAAAACAAAAACTCAAAATTTCTTCTATAAAGTAACAAAACTTTTAAACATTCTCTCTTTTACAAAAATAAACTTATTTTGTACTTTAAAAACAGTCATGTTGTATTATAAAATAAGTAATTAGCTTAACTTATACATAATAGAAACAAATTATACTTATTAGTCAGTCAGAAACAACTTTGGCACATATCAATATTATGCTCTCGACAAATAACTTTTTTGCATTTTTTGCACGATGCATTTGCCTTTCGCCTTATTTTAGAGGGGCAGTAAGTACAGTAAGTACGTTTTTTCATTACTGGCTCTTCAGTACTGTCATCTGATGTACCAGGCACTTCATTTGGCAAAATATTAGAGATATTATCGCGCAAATATCTCTTCAAAGTAGGAGCTTCTAAACGCTTACGCATAAACGATGACGTCAGGCTCATGTAAAGGTTTCTCATAAATTTTTTGCGACTTTGAACCTTTTCTCCCTTGCTACTGACATTATGGCTGTATATAATAAAAGAATTTATGCAGGCAATGTTTATCATTCCGTACAATAATGCCATAGGCCACCTATTCGTCTTCCTACTGCAGGTGCGGGTGCCAGGGCGTGCCCTTGGGCTCCCCGGGCGCGTACTCCACCTCACCCATGCGATCGCTCCGGAAAGATACATTGATGAGTTTGGACAAACCACAACTAGAATGCAGTGAAAAAAATGCTTTATTTGTGAAATTTGTGATGCTATTGCTTTATTTGTAACCATTATAAGCTGCAATAAACAAGTTAACAACAACAATTGCATTCATTTTATGTTTCAGGTTCAGGGGGAGGTGTGGGAGGTTTTTTAAAGCAAGTAAAACCTCTACAAATGTGGTATGGCTGATTATGATCTAGAGTCGCGGCCGCTACAGGAACAGGTGGTGGCGGCCCTCGGTGCGCTCGTACTGCTCCACGATGGTGTAGTCCTCGTTGTGGGAGGTGATGTCCAGCTTGGAGTCCACGTAGTAGTAGCCGGGCAGCTGCACGGGCTTCTTGGCCATGTAGATGGACTTGAACTCCACCAGGTAGTGGCCGCCGTCCTTCAGCTTCAGGGCCTTGTGGATCTCGCCCTTCAGCACGCCGTCGCGGGGGTACAGGCGCTCGGTGGAGGCCTCCCAGCCCATGGTCTTCTTCTGCATTACGGGGCCGTCGGAGGGGAAGTTCACGCCGATGAACTTCACCTTGTAGATGAAGCAGCCGTCCTGCAGGGAGGAGTCTTGGGTCACGGTCACCACGCCGCCGTCCTCGAAGTTCATCACGCGCTCCCACTTGAAGCCCTCGGGGAAGGACAGCTTCTTGTAGTCGGGGATGTCGGCGGGGTGCTTCACGTACACCTTGGAGCCGTACTGGAACTGGGGGGACAGGATGTCCCAGGCGAAGGGCAGGGGGCCGCCCTTGGTCACCTTCAGCTTCACGGTGTTGTGGCCCTCGTAGGGGCGGCCCTCGCCCTCGCCCTCGATCTCGAACTCGTGGCCGTTCACGGTGCCCTCCATGCGCACCTTGAAGCGCATGAACTCCTTGATGACGTTCTTGGAGGAGCGCACCATGGTGGCGACCTGTGGGTCCCGGGCCCGCGGTACCGTCGACTCTAGCGGTACCCCGATTGTTTAGCTTGTTCAGCTGCGCTTGTTTATTTGCTTAGCTTTCGCTTAGCGACGTGTTCACTTTGCTTGTTTGAATTGAATTGTCGCTCCGTAGACGAAGCGCCTCTATTTATACTCCGGCGGTCGAGGGTTCGAAATCGATAAGCTTGGATCCTAATTGAATTAGCTCTAATTGAATTAGTCTCTAATTGAATTAGATCCCCGGGCGAGCTCGAATTAACCATTGTGGACCGGTCAGCGCTGGCGGTGGGGACAGCTCCGGCTGTGGCTGTTCTTGCGAGTCCTCTTCCTGCGGCACATCCCTCTCGTCGACCAGTTCAGTTTGCTGAGCGTAAGCCTGCTGCTGTTCGTCCTGCATCATCGGGACCATTTGTATGGGCCATCCGCCACCACCACCATCACCACCGCCGTCCATTTCTAGGGGCATACCCATCAGCATCTCCGCGGGCGCCATTGGCGGTGGTGCCAAGGTGCCATTCGTTTGTTGCTGAAAGCAAAAGAAAGCAAATTAGTGTTGTTTCTGCTGCACACGATAATTTTCGTTTCTTGCCGCTAGACACAAACAACACTGCATCTGGAGGGAGAAATTTGACGCCTAGCTGTATAACTTACCTCAAAGTTATTGTCCATCGTGGTATAATGGACCTACCGAGCCCGGTTACACTACACAAAGCAAGATTATGCGACAAAATCACAGCGAAAACTAGTAATTTTCATCTATCGAAAGCGGCCGAGCAGAGAGTTGTTTGGTATTGCAACTTGACATTCTGCTGCGGGATAAACCGCGACGGGCTACCATGGCGCACCTGTCAGATGGCTGTCAAATTTGGCCCGGTTTGCGATATGGAGTGGGTGAAATTATATCCCACTCGCTGATCGTGAAAATAGACACCTGAAAACAATAATTGTTGTGTTAATTTTACATTTTGAAGAACAGCACAAGTTTTGCTGACAATATTTAATTACGTTTCGTTATCAACGGCACGGAAAGATTATCTCGCTGATTATCCCTCTCGCTCTCTCTGTCTATCATGTCCTGGTCGTTCTCGCGTCACCCCGGATAATCGAGAGACGCCATTTTTAATTTGAACTACTACACCGACAAGCATGCCGTGAGCTCTTTCAAGTTCTTCTGTCCGACCAAAGAAACAGAGAATACCGCCCGGACAGTGCCCGGAGTGATCGATCCATAGAAAATCGCCCATCATGTGCCACTGAGGCGAACCGGCGTAGCTTGTTCCGAATTTCCAAGTGCTTCCCCGTAACATCCGCATATAACAAACAGCCCAACAACAAATACAGCATCGAGCTCGAGATGGACTATAAGGACCACGACGGAGACTACAAGGATCATGATATTGATTACAAAGACGATGACGATAAGATGGCCCCAAAGAAGAAGCGGAAGGTCGGTATCCACGGAGTCCCAGCAGCCGACAAGAAGTACAGCATCGGCCTGGACATCGGCACCAACTCTGTGGGCTGGGCCGTGATCACCGACGAGTACAAGGTGCCCAGCAAGAAATTCAAGGTGCTGGGCAACACCGACCGGCACAGCATCAAGAAGAACCTGATCGGAGCCCTGCTGTTCGACAGCGGCGAAACAGCCGAGGCCACCCGGCTGAAGAGAACCGCCAGAAGAAGATACACCAGACGGAAGAACCGGATCTGCTATCTGCAAGAGATCTTCAGCAACGAGATGGCCAAGGTGGACGACAGCTTCTTCCACAGACTGGAAGAGTCCTTCCTGGTGGAAGAGGATAAGAAGCACGAGCGGCACCCCATCTTCGGCAACATCGTGGACGAGGTGGCCTACCACGAGAAGTACCCCACCATCTACCACCTGAGAAAGAAACTGGTGGACAGCACCGACAAGGCCGACCTGCGGCTGATCTATCTGGCCCTGGCCCACATGATCAAGTTCCGGGGCCACTTCCTGATCGAGGGCGACCTGAACCCCGACAACAGCGACGTGGACAAGCTGTTCATCCAGCTGGTGCAGACCTACAACCAGCTGTTCGAGGAAAACCCCATCAACGCCAGCGGCGTGGACGCCAAGGCCATCCTGTCTGCCAGACTGAGCAAGAGCAGACGGCTGGAAAATCTGATCGCCCAGCTGCCCGGCGAGAAGAAGAATGGCCTGTTCGGAAACCTGATTGCCCTGAGCCTGGGCCTGACCCCCAACTTCAAGAGCAACTTCGACCTGGCCGAGGATGCCAAACTGCAGCTGAGCAAGGACACCTACGACGACGACCTGGACAACCTGCTGGCCCAGATCGGCGACCAGTACGCCGACCTGTTTCTGGCCGCCAAGAACCTGTCCGACGCCATCCTGCTGAGCGACATCCTGAGAGTGAACACCGAGATCACCAAGGCCCCCCTGAGCGCCTCTATGATCAAGAGATACGACGAGCACCACCAGGACCTGACCCTGCTGAAAGCTCTCGTGCGGCAGCAGCTGCCTGAGAAGTACAAAGAGATTTTCTTCGACCAGAGCAAGAACGGCTACGCCGGCTACATTGACGGCGGAGCCAGCCAGGAAGAGTTCTACAAGTTCATCAAGCCCATCCTGGAAAAGATGGACGGCACCGAGGAACTGCTCGTGAAGCTGAACAGAGAGGACCTGCTGCGGAAGCAGCGGACCTTCGACAACGGCAGCATCCCCCACCAGATCCACCTGGGAGAGCTGCACGCCATTCTGCGGCGGCAGGAAGATTTTTACCCATTCCTGAAGGACAACCGGGAAAAGATCGAGAAGATCCTGACCTTCCGCATCCCCTACTACGTGGGCCCTCTGGCCAGGGGAAACAGCAGATTCGCCTGGATGACCAGAAAGAGCGAGGAAACCATCACCCCCTGGAACTTCGAGGAAGTGGTGGACAAGGGCGCTTCCGCCCAGAGCTTCATCGAGCGGATGACCAACTTCGATAAGAACCTGCCCAACGAGAAGGTGCTGCCCAAGCACAGCCTGCTGTACGAGTACTTCACCGTGTATAACGAGCTGACCAAAGTGAAATACGTGACCGAGGGAATGAGAAAGCCCGCCTTCCTGAGCGGCGAGCAGAAAAAGGCCATCGTGGACCTGCTGTTCAAGACCAACCGGAAAGTGACCGTGAAGCAGCTGAAAGAGGACTACTTCAAGAAAATCGAGTGCTTCGACTCCGTGGAAATCTCCGGCGTGGAAGATCGGTTCAACGCCTCCCTGGGCACATACCACGATCTGCTGAAAATTATCAAGGACAAGGACTTCCTGGACAATGAGGAAAACGAGGACATTCTGGAAGATATCGTGCTGACCCTGACACTGTTTGAGGACAGAGAGATGATCGAGGAACGGCTGAAAACCTATGCCCACCTGTTCGACGACAAAGTGATGAAGCAGCTGAAGCGGCGGAGATACACCGGCTGGGGCAGGCTGAGCCGGAAGCTGATCAACGGCATCCGGGACAAGCAGTCCGGCAAGACAATCCTGGATTTCCTGAAGTCCGACGGCTTCGCCAACAGAAACTTCATGCAGCTGATCCACGACGACAGCCTGACCTTTAAAGAGGACATCCAGAAAGCCCAGGTGTCCGGCCAGGGCGATAGCCTGCACGAGCACATTGCCAATCTGGCCGGCAGCCCCGCCATTAAGAAGGGCATCCTGCAGACAGTGAAGGTGGTGGACGAGCTCGTGAAAGTGATGGGCCGGCACAAGCCCGAGAACATCGTGATCGAAATGGCCAGAGAGAACCAGACCACCCAGAAGGGACAGAAGAACAGCCGCGAGAGAATGAAGCGGATCGAAGAGGGCATCAAAGAGCTGGGCAGCCAGATCCTGAAAGAACACCCCGTGGAAAACACCCAGCTGCAGAACGAGAAGCTGTACCTGTACTACCTGCAGAATGGGCGGGATATGTACGTGGACCAGGAACTGGACATCAACCGGCTGTCCGACTACGATGTGGACCATATCGTGCCTCAGAGCTTTCTGAAGGACGACTCCATCGACAACAAGGTGCTGACCAGAAGCGACAAGAACCGGGGCAAGAGCGACAACGTGCCCTCCGAAGAGGTCGTGAAGAAGATGAAGAACTACTGGCGGCAGCTGCTGAACGCCAAGCTGATTACCCAGAGAAAGTTCGACAATCTGACCAAGGCCGAGAGAGGCGGCCTGAGCGAACTGGATAAGGCCGGCTTCATCAAGAGACAGCTGGTGGAAACCCGGCAGATCACAAAGCACGTGGCACAGATCCTGGACTCCCGGATGAACACTAAGTACGACGAGAATGACAAGCTGATCCGGGAAGTGAAAGTGATCACCCTGAAGTCCAAGCTGGTGTCCGATTTCCGGAAGGATTTCCAGTTTTACAAAGTGCGCGAGATCAACAACTACCACCACGCCCACGACGCCTACCTGAACGCCGTCGTGGGAACCGCCCTGATCAAAAAGTACCCTAAGCTGGAAAGCGAGTTCGTGTACGGCGACTACAAGGTGTACGACGTGCGGAAGATGATCGCCAAGAGCGAGCAGGAAATCGGCAAGGCTACCGCCAAGTACTTCTTCTACAGCAACATCATGAACTTTTTCAAGACCGAGATTACCCTGGCCAACGGCGAGATCCGGAAGCGGCCTCTGATCGAGACAAACGGCGAAACCGGGGAGATCGTGTGGGATAAGGGCCGGGATTTTGCCACCGTGCGGAAAGTGCTGAGCATGCCCCAAGTGAATATCGTGAAAAAGACCGAGGTGCAGACAGGCGGCTTCAGCAAAGAGTCTATCCTGCCCAAGAGGAACAGCGATAAGCTGATCGCCAGAAAGAAGGACTGGGACCCTAAGAAGTACGGCGGCTTCGACAGCCCCACCGTGGCCTATTCTGTGCTGGTGGTGGCCAAAGTGGAAAAGGGCAAGTCCAAGAAACTGAAGAGTGTGAAAGAGCTGCTGGGGATCACCATCATGGAAAGAAGCAGCTTCGAGAAGAATCCCATCGACTTTCTGGAAGCCAAGGGCTACAAAGAAGTGAAAAAGGACCTGATCATCAAGCTGCCTAAGTACTCCCTGTTCGAGCTGGAAAACGGCCGGAAGAGAATGCTGGCCTCTGCCGGCGAACTGCAGAAGGGAAACGAACTGGCCCTGCCCTCCAAATATGTGAACTTCCTGTACCTGGCCAGCCACTATGAGAAGCTGAAGGGCTCCCCCGAGGATAATGAGCAGAAACAGCTGTTTGTGGAACAGCACAAGCACTACCTGGACGAGATCATCGAGCAGATCAGCGAGTTCTCCAAGAGAGTGATCCTGGCCGACGCTAATCTGGACAAAGTGCTGTCCGCCTACAACAAGCACCGGGATAAGCCCATCAGAGAGCAGGCCGAGAATATCATCCACCTGTTTACCCTGACCAATCTGGGAGCCCCTGCCGCCTTCAAGTACTTTGACACCACCATCGACCGGAAGAGGTACACCAGCACCAAAGAGGTGCTGGACGCCACCCTGATCCACCAGAGCATCACCGGCCTGTACGAGACACGGATCGACCTGTCTCAGCTGGGAGGCGACAAAAGGCCGGCGGCCACGAAAAAGGCCGGCCAGGCAAAAAAGAAAAAGTAATTAATTAAGAGGACGGCGAGAAGTAATCATATGTCCGCATTTTGCGCAAACCAGGCGCTTAGACAATTTGCGCGTAAGCACATTCGAAATGTGCAAAGCTGAAAGCAGTGGTTTCGCCAGCCCGAGTTCAGCGAAACGGATTCCTTCCAAGTGTTTGCATTCCTGGCGGAGTATTCCTCCCAAAATGCACTCACCCTGCGTGCAGTGCCAAATCGTGAGTTTCCTAATTTTTTCATATTGTTTATTACCTACCAACTAAAGTTGTTGTTATATATTGCGTTTTACGTACGACAAATAAGTTCGTATTCAGAAATATTTGCGATAAGAGAGAACTCATTTGCGATGAATCTCATTGTATTTAGCTAAGTGCCTTGATAAGTAAGCGGAACAGCAGGAATATGACACTCCTTGGGAAATACATGTAAGCGTCTGTGAATTAGATATATATACACGCAACCAAATGGTCCATGGTTGATTTAAGCACTGCCTGTTGTCGAACATTGCTATAAGCAAAATAAAGAAGCATTCATTAATCTAAAATTTCTTCAAAGTGACTTCAATGATGATCTCTAGGCTATAGTGAAAGCTGAAAGCTTATTCGACAATGCAAGGGAAAGTGACGCACGTGTGTCGTATGGGACCGCGCGCATTTATTCTCTCAGCTAATTCCCCTAATCATTAGTAATTGACGGCACGATTTCTGCTTCTTACTTCCTTTTACTTTGGAGCTTTTCATCAATAAAACCAGTACCATGGCCGTACGCTCAACGGAAAAGCATTCACAAAAACCCGCGTTCCTCGTGTGATTTGTGGGTGAGTGGCGCCATCTATTAGAGAATAGCTGTACTACATCTCGTGGACGAAGGGGTCAGAGAAGTTGAAAGAGAGCTTGATCGACTGCTATCCAAGCTAGGCGAGGAAGGGAGATCGCTAGAGCAAAAGAAAAAAAATAAGCAAATATCTTTTTTTATAACAAATCGACGTTAGCGAAATATGTTTGAATCGATTTAACGGTTAGAATTCCCTTTGGTTCGTTCATTATGCGAGGCGCGCCTTTGTATGCGTGCGCTTGAAGGGTTGATCGGAACCTTACAACAGTTGTAGCTATACGGCTGCGTGTGGCTTCTAACGTTATCCATCGCTAGAAGTGAAACGAATGTGCGTAGGTATATATATGAAATGGAGTTGCTCTCTGCTGTTTAACACAGGTCAAGCGGGTTTTAGAGCTAGAAATAGCAAGTTAAAATAAGGCTAGTCCGTTATCAACTTGAAAAAGTGGCACCGAGTCGGTGCTTTTTTTTACGCGTGGGTCCCATGGGTGAGGTGGAGTACGCGCCCGGGGAGCCCAAGGGCACGCCCTGGCACCCGCAGATCTCGGATCTGACAATGTTCAGTGCAGAGACTCGGCTACGCCTCGTGGACTTTGAAGTTGACCAACAATGTTTATTCTTACCTCTAATAGTCCTCTGTGGCAAGGTCAAGATTCTGTTAGAAGCCAATGAAGAACCTGGTTGTTCAATAACATTTTGTTCGTCTAATATTTCACTACCGCTTGACGTTGGCTGCACTTCATGTACCTCATCTATAAACGCTTCTTCTGTATCGCTCTGGACGTCATCTTCACTTACGTGATCTGATATTTCACTGTCAGAATCCTCACCAACAAGCTCGTCATCGCTTTGCAGAAGAGCAGAGAGGATATGCTCATCGTCTAAAGAACTACCCATTTTATTATATATTAGTCACGATATCTATAACAAGAAAATATATATATAATAAGTTATCACGTAAGTAGAACATGAAATAACAATATAATTATCGTATGAGTTAAATCTTAAAAGTCACGTAAAAGATAATCATGCGTCATTTTGACTCACGCGGTCGTTATAGTTCAAAATCAGTGACACTTACCGCATTGACAAGCACGCCTCACGGGAGCTCCAAGCGGCGACTGAGATGTCCTAAATGCACAGCGACGGATTCGCGCTATTTAGAAAGAGAGAGCAATATTTCAAGAATGCATGCGTCAATTTTACGCAGACTATCTTTCTAGGGTTAAAAAAGATTTGCGAAAATGAAGTGAAGTTCCTATACTTTCTAGAGAATAGGAACTTCTATAGTGAGTCGAATAAGGGCGACACAAAATTTATTCTAAATGCATAATAAATACTGATAACATCTTATAGTTTGTATTATATTTTGTATTATCGTTGACATGTATAATTTTGATATCAAAAACTGATTTTCCCTTTATTATTTTCGAGATTTATTTTCTTAATTCTCTTTAACAAACTAGAAATATTGTATATACAAAAAATCATAAATAATAGATGAATAGTTTAATTATAGGTGTTCATCAATCGAAAAAGCAACGTATCTTATTTAAAGTGCGTTGCTTTTTTCTCATTTATAAGGTT\n"
          ]
        }
      ]
    },
    {
      "cell_type": "code",
      "source": [
        "import matplotlib.pyplot as plt\n",
        "import numpy as np\n",
        "from dna_features_viewer import BiopythonTranslator"
      ],
      "metadata": {
        "id": "YyZKACaej-1U"
      },
      "execution_count": 44,
      "outputs": []
    },
    {
      "cell_type": "code",
      "source": [
        "# Creando la figura\n",
        "\n",
        "fig,(ax1,ax2) = plt.subplots(2,1,figsize=(12,4))\n",
        "\n",
        "grafico=BiopythonTranslator().translate_record(record)\n",
        "grafico.plot(ax=ax1)\n",
        "\n",
        "y=[]\n",
        "\n",
        "for i in range (0, len(grafico.sequence)-100):\n",
        "    count=0\n",
        "    seq=grafico.sequence[i:1+100]\n",
        "    for n in seq:\n",
        "        if n in \"GC\":\n",
        "            count += 1\n",
        "\n",
        "    y.append(count)\n",
        "\n",
        "x=np.arange(len(grafico.sequence)-100)\n",
        "\n",
        "ax2.fill_between(x,y,alpha=0.5)\n",
        "ax2.set_ylabel(\"GC(%)\")\n",
        "\n",
        "plt.show()"
      ],
      "metadata": {
        "colab": {
          "base_uri": "https://localhost:8080/",
          "height": 368
        },
        "id": "kjOdLroEkCOo",
        "outputId": "acfad49b-d193-4e56-87ea-889984e3e2a7"
      },
      "execution_count": 45,
      "outputs": [
        {
          "output_type": "display_data",
          "data": {
            "text/plain": [
              "<Figure size 1200x400 with 2 Axes>"
            ],
            "image/png": "[encoded data removed]"
          },
          "metadata": {}
        }
      ]
    }
  ]
}